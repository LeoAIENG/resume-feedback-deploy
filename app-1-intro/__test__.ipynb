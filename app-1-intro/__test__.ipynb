{
 "cells": [
  {
   "cell_type": "code",
   "execution_count": 24,
   "metadata": {},
   "outputs": [
    {
     "name": "stdout",
     "output_type": "stream",
     "text": [
      "{'generated_text': 'The content within your CV has potential but requires refinement to effectively communicate your qualifications and experiences. Enhancing clarity will make it easier for hiring managers to grasp your value quickly. Let’s focus on how we can improve this critical aspect. Your CV should not only list duties but also highlight achievements and impact you’ve made throughout your career.\\n\\n\\nIn reviewing your CV, there appears to be room for improvement in articulating your accomplishments and responsibilities clearly. It’s important to present your professional history in a way that captivates potential employers without overwhelming them with too much detail. Focusing on impactful statements rather than just listing tasks will significantly elevate the overall quality of your CV. This approach ensures that your qualifications shine through even at a glance. With some adjustments, your CV could truly reflect the impressive breadth of your experience.'}\n"
     ]
    }
   ],
   "source": [
    "import requests\n",
    "import json\n",
    "\n",
    "url = \"http://127.0.0.1:8081/generate\"\n",
    "\n",
    "payload = {\n",
    "  \"inputs\": \"Below is an instruction that describes a task, paired with an input that provides further context. Write a response that appropriately completes the request.\\n\\n### Instruction:\\nYou are a professional resume evaluator. Given the following resume 'Input', please return an introduction feedback / evaluation 'Response' about the full resume.\\n\\n### Input:\\nNoowe Jacob Byaruhanga\\n\\njaynoowe@gmail.com P.O. Box 2038, Kampala Tel: +256-772-343-484 https://jaynoowe.blogspot.com/\\n\\nPROFILE:\\nJacob is an experienced Information and Records Management Specialist with a strong background in planning and executing archival projects for Uganda Broadcasting Corporation (UBC). Skilled in cataloging, digitizing, and archiving diverse audio, video, photographic, and document archives. Proficient in supervising records management activities, drafting policies, and providing training to ensure compliance with organizational standards. Proven ability to manage personnel and activities across multiple departments, fostering collaboration and efficiency. A dedicated Information Manager with over seven (7) years of experience in overseeing information systems and databases. Proven track record of ensuring the security, accuracy, and accessibility of organizational data. Skilled in developing and implementing information management policies and procedures to optimize workflows. He is a results-driven Records Manager with ten (10) years of experience in creating and implementing records management policies and procedures and possesses the expertise in organizing and classifying records for efficient storage and retrieval. He is proficient in managing the lifecycle of records, ensuring compliance with legal and regulatory requirements, skilled in training staff on records management practices and tools, detail-oriented and proactive in identifying opportunities for process improvement and risk mitigation. His strong analytical and problem-solving abilities with a commitment to maintaining information integrity and confidentiality. Jacob is customer-focused person with great Customer Care and a solid background in resolving customer inquiries and issues across multiple channels. He possessing over ten (10) years of experience in delivering exceptional customer service in fast-paced environments. Skilled in handling customer complaints with empathy and efficiency, that have resulted in high levels of customer satisfaction and retention. Proficient in maintaining accurate records of customer interactions and transactions, strong communication and interpersonal skills with a commitment to exceeding customer expectations. He possesses a persistent, adaptable character with the ability to work in high pressure situations, work with little or no supervision and a quick study.\\n*\\tExcellent Communication & Interpersonal Skills\\n*\\tExcellent Customer Service & Negotiation\\n*\\tInformation Management Systems Experience\\n*\\tPresentation Skills\\t*\\tInformation Management Skills\\n*\\tTime Management\\n*\\tStrong Organisational Skills\\n*\\tRecords Management Supervision\\n*\\tExcellent ICT Skills\\n*\\tResilient\\t*\\tTeam player & Leadership Skills\\n*\\tArchival Project Management\\n*\\tWriting Skills\\t*\\tDigitization of Analog Materials\\n*\\tPolicy Drafting & Formulation\\n*\\tTeaching ability\\n\\n\\nRELEVANT WORK EXPERIENCE\\nUganda Broadcasting Corporation (UBC) - Librarian / Archivist: - 2009 - To date\\nProject Management: Led multiple high-profile projects, including cataloging, digitization, and archival of audio, video, and photographic archives, ensuring adherence to timelines and quality standards. Below is the link to an article in the Guardian about the Unseen Archives of Idi Amin a project one of many I have been a part of.\\nhttps://www.theguardian.com/world/2019/oct/07/idi-amins-mastery-of-media-revealed-in-newly-published-photos Records Management: Developed and implemented comprehensive records management policies and procedures, establishing efficient document registry and archive systems. Proficient in supervising records management activities and providing in-house training to staff.\\nDigitization Expertise: Spearheaded the digitization of analogue and hardcopy materials across various departments, ensuring seamless transition to digital formats while keeping abreast of technological advancements.\\nLeadership & Supervision: Managed, supervised, and evaluated personnel and activities in registry, library, archive, and museum departments. Provided guidance and direction to ensure compliance with records management policies and standards.\\nStrategic Planning: Drafted budgets, allocated funding priorities, and benchmarked with external organizations to enhance UBC's records management program. Developed policies to streamline information management across departments.\\nCommunication & Collaboration: Acted as a liaison for UBC's Information Management department with development partners and donors. Represented library, archive, and museum departments in management meetings, fostering collaboration and alignment of goals.\\nSkills Gained:\\n*\\tPolicy drafting and formulation\\n*\\tDigitization of library and archive material\\n*\\tProficiency in English language and writing skills\\n*\\tCommunication and interpersonal skills\\n*\\tPublic speaking\\n*\\tCataloging and classification of non-book materials\\n*\\tCustomer care and negotiation\\nWBS Television - Assistant Librarian - January 16th 2006 - 2008\\nDatabase management of programmes and other information materials, previewing programmes for errors and appropriateness before airing to ascertain the suitability. Issuing archive material, books and other information materials to library users. Time coding programmes to duration. Digitizing and editing content and managing multimedia files and backing up content on DVD and computer. preparing the transmission schedules.\\nSkills gained\\n*\\tProficiency in database management systems\\n*\\tAttention to detail and accuracy in program previewing\\n*\\tEffective communication and customer service skills\\n*\\tTime management and scheduling abilities\\n*\\tMultimedia editing and production skills\\n*\\tKnowledge of transmission scheduling processes and procedures\\n\\nEducation and Training:\\nBachelor of Library and Information Science - Makerere University 2005\\nUganda Advanced Certificate of Education - Lakeside College Luzira 2001\\nUganda Certificate of Education - Ntare School 1999\\nREFEREES\\nMiss Alesi Racheal Adrale\\nSecretary to The Special Presidential Advisor - Industry\\nOffice of The President\\nD27, 4th Floor\\nKingdom Kampala,\\nNile Avenue\\nKampala.\\nEmail.: rachealalesiadrale@gmail.com\\nTel: 0709612640\\n\\nMrs. Doreen Ndeezi\\nManager Radios\\nUganda Broadcasting Corporation,\\nPlot 27-29 Nile Avenue,\\nBroadcast House,\\nP.O. Box 2038,\\nKampala\\nEmail: Doreen.ndeezi@ubc.go.ug\\nTel. + (256) - 752 - 549 280\\n\\nDr. Edgar Curtis Taylor\\nLecturer\\nDepartment of History, Archaeology and Heritage Studies\\nMakerere University\\nP.O Box 7062 Kampala\\nEmail: edgar.taylor@chuss.mak.ac.ug\\nedgarjac@umich.edu\\nTel: +256774292042\\n\\n### Response:\\n\",\n",
    "  \"parameters\": {\n",
    "    \"temperature\": 0.58,\n",
    "    \"max_new_tokens\": 300,\n",
    "    \"top_p\": 0.94,\n",
    "    \"repetition_penalty\": 1.17\n",
    "  }\n",
    "}\n",
    "headers = {\n",
    "  'Content-Type': 'application/json'\n",
    "}\n",
    "\n",
    "response = requests.request(\"POST\", url, headers=headers, json=payload)\n",
    "\n",
    "print(response.json())\n"
   ]
  },
  {
   "cell_type": "code",
   "execution_count": null,
   "metadata": {},
   "outputs": [],
   "source": []
  }
 ],
 "metadata": {
  "kernelspec": {
   "display_name": "cond_resume_critique_env",
   "language": "python",
   "name": "python3"
  },
  "language_info": {
   "codemirror_mode": {
    "name": "ipython",
    "version": 3
   },
   "file_extension": ".py",
   "mimetype": "text/x-python",
   "name": "python",
   "nbconvert_exporter": "python",
   "pygments_lexer": "ipython3",
   "version": "3.10.15"
  }
 },
 "nbformat": 4,
 "nbformat_minor": 2
}
